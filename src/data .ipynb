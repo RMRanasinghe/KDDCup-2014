{
 "metadata": {
  "name": "data "
 },
 "nbformat": 3,
 "nbformat_minor": 0,
 "worksheets": [
  {
   "cells": [
    {
     "cell_type": "code",
     "collapsed": false,
     "input": [
      "import pandas as pd\n",
      "import numpy as np\n",
      "df=pd.read_csv('../data/projects.csv')\n",
      "\n",
      "df.secondary_focus_area = df.secondary_focus_area.fillna(df.primary_focus_area)\n",
      "df.secondary_focus_subject = df.secondary_focus_subject.fillna(df.primary_focus_subject)\n",
      "totalCount = df.shape[0]\n",
      "\n",
      "for i in range(1,df.shape[1]):\n",
      "    nullcount = df[df[df.columns[i]].isnull()].shape[0]\n",
      "    percentage=float(nullcount)/float(totalCount) *100\n",
      "    if(percentage>0):\n",
      "        print df.columns[i],percentage,'%'\n",
      "        "
     ],
     "language": "python",
     "metadata": {},
     "outputs": [
      {
       "output_type": "stream",
       "stream": "stdout",
       "text": [
        "school_ncesid 6.43519480559 %\n",
        "school_zip 0.000602320741818 %\n",
        "school_metro"
       ]
      },
      {
       "output_type": "stream",
       "stream": "stdout",
       "text": [
        " 12.3337218302 %\n",
        "school_district 0.142750015811 %\n",
        "school_county 0.00255986315273 %\n",
        "teacher_prefix"
       ]
      },
      {
       "output_type": "stream",
       "stream": "stdout",
       "text": [
        " 0.000602320741818 %\n",
        "primary_focus_subject 0.00587262723273 %\n",
        "primary_focus_area"
       ]
      },
      {
       "output_type": "stream",
       "stream": "stdout",
       "text": [
        " 0.00587262723273 %\n",
        "secondary_focus_subject 0.00587262723273 %\n",
        "secondary_focus_area 0.00587262723273 %\n",
        "resource_type 0.00677610834546 %\n",
        "grade_level"
       ]
      },
      {
       "output_type": "stream",
       "stream": "stdout",
       "text": [
        " 0.00135522166909 %\n",
        "fulfillment_labor_materials 5.28265406612 %\n",
        "students_reached 0.0219847070764 %\n"
       ]
      }
     ],
     "prompt_number": 1
    },
    {
     "cell_type": "code",
     "collapsed": false,
     "input": [
      "df.describe()"
     ],
     "language": "python",
     "metadata": {},
     "outputs": [
      {
       "html": [
        "<div style=\"max-height:1000px;max-width:1500px;overflow:auto;\">\n",
        "<table border=\"1\" class=\"dataframe\">\n",
        "  <thead>\n",
        "    <tr style=\"text-align: right;\">\n",
        "      <th></th>\n",
        "      <th>school_ncesid</th>\n",
        "      <th>school_latitude</th>\n",
        "      <th>school_longitude</th>\n",
        "      <th>school_zip</th>\n",
        "      <th>fulfillment_labor_materials</th>\n",
        "      <th>total_price_excluding_optional_support</th>\n",
        "      <th>total_price_including_optional_support</th>\n",
        "      <th>students_reached</th>\n",
        "    </tr>\n",
        "  </thead>\n",
        "  <tbody>\n",
        "    <tr>\n",
        "      <td><strong>count</strong></td>\n",
        "      <td> 6.213620e+05</td>\n",
        "      <td> 664098.000000</td>\n",
        "      <td> 664098.000000</td>\n",
        "      <td> 664094.000000</td>\n",
        "      <td> 629016.000000</td>\n",
        "      <td>   664098.000000</td>\n",
        "      <td>   664098.000000</td>\n",
        "      <td> 663952.000000</td>\n",
        "    </tr>\n",
        "    <tr>\n",
        "      <td><strong>mean</strong></td>\n",
        "      <td> 2.608577e+11</td>\n",
        "      <td>     37.240948</td>\n",
        "      <td>    -93.344760</td>\n",
        "      <td>  52926.452644</td>\n",
        "      <td>     27.495822</td>\n",
        "      <td>      542.041520</td>\n",
        "      <td>      644.712845</td>\n",
        "      <td>     97.233547</td>\n",
        "    </tr>\n",
        "    <tr>\n",
        "      <td><strong>std</strong></td>\n",
        "      <td> 1.589754e+11</td>\n",
        "      <td>      4.668155</td>\n",
        "      <td>     17.761908</td>\n",
        "      <td>  31193.738658</td>\n",
        "      <td>      8.663046</td>\n",
        "      <td>    12677.383883</td>\n",
        "      <td>    15458.631886</td>\n",
        "      <td>   2283.327661</td>\n",
        "    </tr>\n",
        "    <tr>\n",
        "      <td><strong>min</strong></td>\n",
        "      <td> 1.000050e+10</td>\n",
        "      <td>     18.249140</td>\n",
        "      <td>   -176.634989</td>\n",
        "      <td>    410.000000</td>\n",
        "      <td>      9.000000</td>\n",
        "      <td>        0.000000</td>\n",
        "      <td>        0.000000</td>\n",
        "      <td>      0.000000</td>\n",
        "    </tr>\n",
        "    <tr>\n",
        "      <td><strong>25%</strong></td>\n",
        "      <td> 1.000230e+11</td>\n",
        "      <td>     34.038082</td>\n",
        "      <td>   -112.003213</td>\n",
        "      <td>  27589.000000</td>\n",
        "      <td>     17.000000</td>\n",
        "      <td>      267.200000</td>\n",
        "      <td>      317.500000</td>\n",
        "      <td>     22.000000</td>\n",
        "    </tr>\n",
        "    <tr>\n",
        "      <td><strong>50%</strong></td>\n",
        "      <td> 2.615730e+11</td>\n",
        "      <td>     37.662476</td>\n",
        "      <td>    -87.681219</td>\n",
        "      <td>  50702.000000</td>\n",
        "      <td>     30.000000</td>\n",
        "      <td>      411.000000</td>\n",
        "      <td>      487.840000</td>\n",
        "      <td>     30.000000</td>\n",
        "    </tr>\n",
        "    <tr>\n",
        "      <td><strong>75%</strong></td>\n",
        "      <td> 3.704720e+11</td>\n",
        "      <td>     40.758827</td>\n",
        "      <td>    -79.193091</td>\n",
        "      <td>  85043.000000</td>\n",
        "      <td>     35.000000</td>\n",
        "      <td>      586.490000</td>\n",
        "      <td>      696.387500</td>\n",
        "      <td>    100.000000</td>\n",
        "    </tr>\n",
        "    <tr>\n",
        "      <td><strong>max</strong></td>\n",
        "      <td> 6.100009e+11</td>\n",
        "      <td>     67.258157</td>\n",
        "      <td>    -66.628036</td>\n",
        "      <td>  99950.000000</td>\n",
        "      <td>     35.000000</td>\n",
        "      <td> 10250017.000000</td>\n",
        "      <td> 12500020.730000</td>\n",
        "      <td> 999999.000000</td>\n",
        "    </tr>\n",
        "  </tbody>\n",
        "</table>\n",
        "</div>"
       ],
       "output_type": "pyout",
       "prompt_number": 4,
       "text": [
        "       school_ncesid  school_latitude  school_longitude     school_zip  \\\n",
        "count   6.213620e+05    664098.000000     664098.000000  664094.000000   \n",
        "mean    2.608577e+11        37.240948        -93.344760   52926.452644   \n",
        "std     1.589754e+11         4.668155         17.761908   31193.738658   \n",
        "min     1.000050e+10        18.249140       -176.634989     410.000000   \n",
        "25%     1.000230e+11        34.038082       -112.003213   27589.000000   \n",
        "50%     2.615730e+11        37.662476        -87.681219   50702.000000   \n",
        "75%     3.704720e+11        40.758827        -79.193091   85043.000000   \n",
        "max     6.100009e+11        67.258157        -66.628036   99950.000000   \n",
        "\n",
        "       fulfillment_labor_materials  total_price_excluding_optional_support  \\\n",
        "count                629016.000000                           664098.000000   \n",
        "mean                     27.495822                              542.041520   \n",
        "std                       8.663046                            12677.383883   \n",
        "min                       9.000000                                0.000000   \n",
        "25%                      17.000000                              267.200000   \n",
        "50%                      30.000000                              411.000000   \n",
        "75%                      35.000000                              586.490000   \n",
        "max                      35.000000                         10250017.000000   \n",
        "\n",
        "       total_price_including_optional_support  students_reached  \n",
        "count                           664098.000000     663952.000000  \n",
        "mean                               644.712845         97.233547  \n",
        "std                              15458.631886       2283.327661  \n",
        "min                                  0.000000          0.000000  \n",
        "25%                                317.500000         22.000000  \n",
        "50%                                487.840000         30.000000  \n",
        "75%                                696.387500        100.000000  \n",
        "max                           12500020.730000     999999.000000  "
       ]
      }
     ],
     "prompt_number": 4
    },
    {
     "cell_type": "code",
     "collapsed": false,
     "input": [
      "plt.hist(df.total_price_excluding_optional_support[df.total_price_excluding_optional_support< 1000],bins = 100)"
     ],
     "language": "python",
     "metadata": {},
     "outputs": [
      {
       "output_type": "pyout",
       "prompt_number": 72,
       "text": [
        "(array([   319.,     39.,     19.,     32.,     64.,     90.,    162.,\n",
        "          194.,    261.,    398.,   1754.,   2444.,   3920.,   7678.,\n",
        "        12237.,  13826.,  12657.,  11499.,  11548.,  11473.,  10627.,\n",
        "        11247.,  10778.,  12142.,  12074.,  11129.,  10308.,  10194.,\n",
        "        10811.,  10780.,  10679.,  11480.,  11701.,  14878.,  10778.,\n",
        "        11660.,  11391.,  12190.,  11704.,  12120.,  11308.,  12769.,\n",
        "        13244.,  17142.,  15300.,  13335.,  14845.,  14819.,  11069.,\n",
        "         7219.,   7570.,   6559.,   5160.,   5335.,   6376.,   4739.,\n",
        "         4243.,   4592.,   4917.,   4656.,   4224.,   3402.,   3994.,\n",
        "         4216.,   3822.,   4830.,   3428.,   4097.,   3427.,   3781.,\n",
        "         3569.,   3658.,   2859.,   3153.,   3125.,   3341.,   3063.,\n",
        "         3229.,   3405.,   3356.,   3707.,   3562.,   3659.,   4453.,\n",
        "         4373.,   3951.,   2451.,   2574.,   2535.,   2707.,   2805.,\n",
        "         3519.,   2432.,   1693.,   1352.,   1195.,    908.,    956.,\n",
        "          847.,    854.]),\n",
        " array([   0.    ,    9.9999,   19.9998,   29.9997,   39.9996,   49.9995,\n",
        "         59.9994,   69.9993,   79.9992,   89.9991,   99.999 ,  109.9989,\n",
        "        119.9988,  129.9987,  139.9986,  149.9985,  159.9984,  169.9983,\n",
        "        179.9982,  189.9981,  199.998 ,  209.9979,  219.9978,  229.9977,\n",
        "        239.9976,  249.9975,  259.9974,  269.9973,  279.9972,  289.9971,\n",
        "        299.997 ,  309.9969,  319.9968,  329.9967,  339.9966,  349.9965,\n",
        "        359.9964,  369.9963,  379.9962,  389.9961,  399.996 ,  409.9959,\n",
        "        419.9958,  429.9957,  439.9956,  449.9955,  459.9954,  469.9953,\n",
        "        479.9952,  489.9951,  499.995 ,  509.9949,  519.9948,  529.9947,\n",
        "        539.9946,  549.9945,  559.9944,  569.9943,  579.9942,  589.9941,\n",
        "        599.994 ,  609.9939,  619.9938,  629.9937,  639.9936,  649.9935,\n",
        "        659.9934,  669.9933,  679.9932,  689.9931,  699.993 ,  709.9929,\n",
        "        719.9928,  729.9927,  739.9926,  749.9925,  759.9924,  769.9923,\n",
        "        779.9922,  789.9921,  799.992 ,  809.9919,  819.9918,  829.9917,\n",
        "        839.9916,  849.9915,  859.9914,  869.9913,  879.9912,  889.9911,\n",
        "        899.991 ,  909.9909,  919.9908,  929.9907,  939.9906,  949.9905,\n",
        "        959.9904,  969.9903,  979.9902,  989.9901,  999.99  ]),\n",
        " <a list of 100 Patch objects>)"
       ]
      }
     ],
     "prompt_number": 72
    },
    {
     "cell_type": "code",
     "collapsed": false,
     "input": [
      "plt.show()"
     ],
     "language": "python",
     "metadata": {},
     "outputs": [],
     "prompt_number": 73
    },
    {
     "cell_type": "code",
     "collapsed": false,
     "input": [
      "int(df.students_reached[3])/5"
     ],
     "language": "python",
     "metadata": {},
     "outputs": [
      {
       "output_type": "pyout",
       "prompt_number": 15,
       "text": [
        "2"
       ]
      }
     ],
     "prompt_number": 15
    },
    {
     "cell_type": "heading",
     "level": 2,
     "metadata": {},
     "source": [
      "resources"
     ]
    },
    {
     "cell_type": "code",
     "collapsed": false,
     "input": [
      "import pandas as pd\n",
      "import numpy as np\n",
      "df=pd.read_csv('../data/resources.csv')\n",
      "\n",
      "totalCount = df.shape[0]\n",
      "\n",
      "for i in range(1,df.shape[1]):\n",
      "    nullcount = df[df[df.columns[i]].isnull()].shape[0]\n",
      "    percentage=float(nullcount)/float(totalCount) *100\n",
      "    if(percentage>0):\n",
      "        print df.columns[i],percentage,'%'\n",
      "        "
     ],
     "language": "python",
     "metadata": {},
     "outputs": [
      {
       "output_type": "stream",
       "stream": "stdout",
       "text": [
        "vendorid 2.95234778853 %\n",
        "vendor_name"
       ]
      },
      {
       "output_type": "stream",
       "stream": "stdout",
       "text": [
        " 2.95308404166 %\n",
        "project_resource_type"
       ]
      },
      {
       "output_type": "stream",
       "stream": "stdout",
       "text": [
        " 0.00534465236172 %\n",
        "item_name"
       ]
      },
      {
       "output_type": "stream",
       "stream": "stdout",
       "text": [
        " 0.373852978976 %\n",
        "item_number"
       ]
      },
      {
       "output_type": "stream",
       "stream": "stdout",
       "text": [
        " 0.698158849067 %\n",
        "item_unit_price 0.378870407723 %\n",
        "item_quantity 0.226602352683 %\n"
       ]
      }
     ],
     "prompt_number": 1
    },
    {
     "cell_type": "code",
     "collapsed": false,
     "input": [
      "df.describe()"
     ],
     "language": "python",
     "metadata": {},
     "outputs": [
      {
       "html": [
        "<div style=\"max-height:1000px;max-width:1500px;overflow:auto;\">\n",
        "<table border=\"1\" class=\"dataframe\">\n",
        "  <thead>\n",
        "    <tr style=\"text-align: right;\">\n",
        "      <th></th>\n",
        "      <th>vendorid</th>\n",
        "      <th>item_unit_price</th>\n",
        "      <th>item_quantity</th>\n",
        "    </tr>\n",
        "  </thead>\n",
        "  <tbody>\n",
        "    <tr>\n",
        "      <td><strong>count</strong></td>\n",
        "      <td> 3558948.000000</td>\n",
        "      <td> 3.653323e+06</td>\n",
        "      <td> 3658907.000000</td>\n",
        "    </tr>\n",
        "    <tr>\n",
        "      <td><strong>mean</strong></td>\n",
        "      <td>     423.671676</td>\n",
        "      <td> 1.798358e+02</td>\n",
        "      <td>       3.305985</td>\n",
        "    </tr>\n",
        "    <tr>\n",
        "      <td><strong>std</strong></td>\n",
        "      <td>     354.632748</td>\n",
        "      <td> 2.346667e+05</td>\n",
        "      <td>     519.314756</td>\n",
        "    </tr>\n",
        "    <tr>\n",
        "      <td><strong>min</strong></td>\n",
        "      <td>       1.000000</td>\n",
        "      <td>-9.960000e+01</td>\n",
        "      <td>       0.000000</td>\n",
        "    </tr>\n",
        "    <tr>\n",
        "      <td><strong>25%</strong></td>\n",
        "      <td>      27.000000</td>\n",
        "      <td> 6.290000e+00</td>\n",
        "      <td>       1.000000</td>\n",
        "    </tr>\n",
        "    <tr>\n",
        "      <td><strong>50%</strong></td>\n",
        "      <td>     752.000000</td>\n",
        "      <td> 1.398000e+01</td>\n",
        "      <td>       1.000000</td>\n",
        "    </tr>\n",
        "    <tr>\n",
        "      <td><strong>75%</strong></td>\n",
        "      <td>     767.000000</td>\n",
        "      <td> 3.600000e+01</td>\n",
        "      <td>       2.000000</td>\n",
        "    </tr>\n",
        "    <tr>\n",
        "      <td><strong>max</strong></td>\n",
        "      <td>    1020.000000</td>\n",
        "      <td> 4.484216e+08</td>\n",
        "      <td>  993108.000000</td>\n",
        "    </tr>\n",
        "  </tbody>\n",
        "</table>\n",
        "</div>"
       ],
       "output_type": "pyout",
       "prompt_number": 4,
       "text": [
        "             vendorid  item_unit_price   item_quantity\n",
        "count  3558948.000000     3.653323e+06  3658907.000000\n",
        "mean       423.671676     1.798358e+02        3.305985\n",
        "std        354.632748     2.346667e+05      519.314756\n",
        "min          1.000000    -9.960000e+01        0.000000\n",
        "25%         27.000000     6.290000e+00        1.000000\n",
        "50%        752.000000     1.398000e+01        1.000000\n",
        "75%        767.000000     3.600000e+01        2.000000\n",
        "max       1020.000000     4.484216e+08   993108.000000"
       ]
      }
     ],
     "prompt_number": 4
    },
    {
     "cell_type": "code",
     "collapsed": false,
     "input": [],
     "language": "python",
     "metadata": {},
     "outputs": []
    }
   ],
   "metadata": {}
  }
 ]
}