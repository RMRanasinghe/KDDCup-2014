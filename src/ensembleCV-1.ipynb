{
 "metadata": {
  "name": "ensembleCV-1"
 },
 "nbformat": 3,
 "nbformat_minor": 0,
 "worksheets": [
  {
   "cells": [
    {
     "cell_type": "code",
     "collapsed": false,
     "input": [
      "import pandas as pd\n",
      "import numpy as np\n",
      "from sklearn.linear_model import LogisticRegression\n",
      "from sklearn.linear_model import SGDClassifier\n",
      "from sklearn.ensemble import RandomForestClassifier\n",
      "from sklearn.preprocessing import LabelEncoder\n",
      "from sklearn.preprocessing import OneHotEncoder\n",
      "from sklearn import cross_validation\n",
      "from sklearn.metrics import roc_auc_score"
     ],
     "language": "python",
     "metadata": {},
     "outputs": [],
     "prompt_number": 66
    },
    {
     "cell_type": "code",
     "collapsed": false,
     "input": [
      "#donations = pd.read_csv('../data/donations.csv').sort('projectid')\n",
      "projects = pd.read_csv('../data/projects.csv').sort('projectid')\n",
      "outcomes = pd.read_csv('../data/outcomes.csv').sort('projectid')\n",
      "#resources = pd.read_csv('../data/resources.csv').sort('projectid')\n",
      "sample = pd.read_csv('../data/sampleSubmission.csv').sort('projectid')\n",
      "#essays = pd.read_csv('../data/essays.csv').sort('projectid')"
     ],
     "language": "python",
     "metadata": {},
     "outputs": [],
     "prompt_number": 67
    },
    {
     "cell_type": "code",
     "collapsed": false,
     "input": [
      "projects = projects.merge(outcomes, how ='inner')\n",
      "dates = np.array(projects.date_posted)\n",
      "train_idx = np.where((dates < '2013-05-01') & (dates >= '2010-01-01'))[0]\n",
      "test_idx = np.where(dates >= '2013-05-01')[0]\n",
      "outcomes = np.array(projects.is_exciting)"
     ],
     "language": "python",
     "metadata": {},
     "outputs": [],
     "prompt_number": 68
    },
    {
     "cell_type": "code",
     "collapsed": false,
     "input": [
      "projects.secondary_focus_area = projects.secondary_focus_area.fillna(projects.primary_focus_area)\n",
      "projects.secondary_focus_subject = projects.secondary_focus_subject.fillna(projects.primary_focus_subject)\n",
      "projects = projects.fillna(method='pad')\n",
      "\n",
      "projects['month'] = ''\n",
      "\n",
      "for i in range(0,projects.shape[0]):\n",
      "    projects['month'][i] = projects.date_posted[i][5:7]"
     ],
     "language": "python",
     "metadata": {},
     "outputs": [],
     "prompt_number": 69
    },
    {
     "cell_type": "code",
     "collapsed": false,
     "input": [
      "cols = ['school_city', 'school_state', 'school_zip', 'school_metro', 'school_district', 'school_county', 'school_charter', 'school_magnet',\n",
      " 'school_year_round', 'school_nlns', 'school_kipp', 'school_charter_ready_promise', 'teacher_prefix', 'teacher_teach_for_america', 'teacher_ny_teaching_fellow', 'primary_focus_subject','primary_focus_area', \n",
      "'secondary_focus_subject', 'secondary_focus_area', 'resource_type', 'poverty_level', 'grade_level',\n",
      "'students_reached', 'eligible_double_your_impact_match', 'eligible_almost_home_match','month' ]\n",
      "projects = np.array(projects[cols])"
     ],
     "language": "python",
     "metadata": {},
     "outputs": [],
     "prompt_number": 70
    },
    {
     "cell_type": "code",
     "collapsed": false,
     "input": [
      "for i in range(0, projects.shape[1]):\n",
      "    le = LabelEncoder()\n",
      "    projects[:,i] = le.fit_transform(projects[:,i])\n",
      "projects = projects.astype(float)"
     ],
     "language": "python",
     "metadata": {},
     "outputs": [],
     "prompt_number": 71
    },
    {
     "cell_type": "code",
     "collapsed": false,
     "input": [
      "train, crossval, outcomeTrain, outcomeCrossVal = projects[train_idx], projects[test_idx], outcomes[train_idx], outcomes[test_idx]\n",
      "model = RandomForestClassifier(n_estimators = 100, criterion = 'entropy', n_jobs = -1)\n",
      "model.fit(train, outcomeTrain=='t')\n",
      "preds3 = model.predict_proba(crossval)[:,1]"
     ],
     "language": "python",
     "metadata": {},
     "outputs": [],
     "prompt_number": 72
    },
    {
     "cell_type": "code",
     "collapsed": false,
     "input": [
      "ohe = OneHotEncoder()\n",
      "projects = ohe.fit_transform(projects)"
     ],
     "language": "python",
     "metadata": {},
     "outputs": [],
     "prompt_number": 73
    },
    {
     "cell_type": "code",
     "collapsed": false,
     "input": [
      "train, crossval, outcomeTrain, outcomeCrossVal = projects[train_idx], projects[test_idx], outcomes[train_idx], outcomes[test_idx]"
     ],
     "language": "python",
     "metadata": {},
     "outputs": [],
     "prompt_number": 74
    },
    {
     "cell_type": "code",
     "collapsed": false,
     "input": [
      "model = LogisticRegression(C = .1)\n",
      "model.fit(train, outcomeTrain=='t')\n",
      "preds1 = model.predict_proba(crossval)[:,1]\n",
      "\n",
      "model = SGDClassifier(alpha = 0.001, loss = 'modified_huber', penalty = 'l2', n_iter = 1000, n_jobs = -1)\n",
      "model.fit(train, outcomeTrain=='t')\n",
      "preds2 = model.predict_proba(crossval)[:,1]"
     ],
     "language": "python",
     "metadata": {},
     "outputs": [],
     "prompt_number": 75
    },
    {
     "cell_type": "code",
     "collapsed": false,
     "input": [
      "preds = 0.6*preds1 + 0.2*preds2 + 0.2*preds3"
     ],
     "language": "python",
     "metadata": {},
     "outputs": [],
     "prompt_number": 76
    },
    {
     "cell_type": "code",
     "collapsed": false,
     "input": [
      "value = roc_auc_score(outcomeCrossVal=='t', preds)\n",
      "value"
     ],
     "language": "python",
     "metadata": {},
     "outputs": [
      {
       "output_type": "pyout",
       "prompt_number": 77,
       "text": [
        "0.62116619896044312"
       ]
      }
     ],
     "prompt_number": 77
    }
   ],
   "metadata": {}
  }
 ]
}