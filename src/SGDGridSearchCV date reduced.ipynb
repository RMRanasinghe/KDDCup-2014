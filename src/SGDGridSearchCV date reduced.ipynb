{
 "metadata": {
  "name": "SGDGridSearchCV date reduced"
 },
 "nbformat": 3,
 "nbformat_minor": 0,
 "worksheets": [
  {
   "cells": [
    {
     "cell_type": "code",
     "collapsed": false,
     "input": [
      "import pandas as pd\n",
      "import numpy as np\n",
      "from sklearn.linear_model import SGDClassifier\n",
      "from sklearn.preprocessing import LabelEncoder\n",
      "from sklearn.preprocessing import OneHotEncoder\n",
      "from sklearn.grid_search import GridSearchCV"
     ],
     "language": "python",
     "metadata": {},
     "outputs": [],
     "prompt_number": 1
    },
    {
     "cell_type": "code",
     "collapsed": false,
     "input": [
      "#donations = pd.read_csv('../data/donations.csv').sort('projectid')\n",
      "projects = pd.read_csv('../data/projects.csv').sort('projectid')\n",
      "outcomes = pd.read_csv('../data/outcomes.csv').sort('projectid')\n",
      "#resources = pd.read_csv('../data/resources.csv').sort('projectid')\n",
      "sample = pd.read_csv('../data/sampleSubmission.csv').sort('projectid')\n",
      "#essays = pd.read_csv('../data/essays.csv').sort('projectid')"
     ],
     "language": "python",
     "metadata": {},
     "outputs": [],
     "prompt_number": 2
    },
    {
     "cell_type": "code",
     "collapsed": false,
     "input": [
      "dates = np.array(projects.date_posted)\n",
      "train_idx = np.where((dates < '2014-01-01') & (dates > '2010-01-01'))[0]\n",
      "test_idx = np.where(dates >= '2014-01-01')[0]"
     ],
     "language": "python",
     "metadata": {},
     "outputs": [],
     "prompt_number": 3
    },
    {
     "cell_type": "code",
     "collapsed": false,
     "input": [
      "outcomes = outcomes.merge(projects[projects.date_posted > '2010-01-01'], how ='inner')"
     ],
     "language": "python",
     "metadata": {},
     "outputs": [],
     "prompt_number": 4
    },
    {
     "cell_type": "code",
     "collapsed": false,
     "input": [
      "outcomes.shape, train_idx.shape"
     ],
     "language": "python",
     "metadata": {},
     "outputs": [
      {
       "output_type": "pyout",
       "prompt_number": 5,
       "text": [
        "((439478, 46), (439478,))"
       ]
      }
     ],
     "prompt_number": 5
    },
    {
     "cell_type": "code",
     "collapsed": false,
     "input": [
      "projects = projects.fillna(method='pad')"
     ],
     "language": "python",
     "metadata": {},
     "outputs": [],
     "prompt_number": 6
    },
    {
     "cell_type": "code",
     "collapsed": false,
     "input": [
      "outcomes = np.array(outcomes.is_exciting)"
     ],
     "language": "python",
     "metadata": {},
     "outputs": [],
     "prompt_number": 7
    },
    {
     "cell_type": "code",
     "collapsed": false,
     "input": [
      "projectCatogorialColumns = ['school_city', 'school_state', 'school_zip', 'school_metro', 'school_district', 'school_county', 'school_charter', 'school_magnet',\n",
      " 'school_year_round', 'school_nlns', 'school_kipp', 'school_charter_ready_promise', 'teacher_prefix', 'teacher_teach_for_america', 'teacher_ny_teaching_fellow', 'primary_focus_subject','primary_focus_area', \n",
      "'secondary_focus_subject', 'secondary_focus_area', 'resource_type', 'poverty_level', 'grade_level',\n",
      "'students_reached', 'eligible_double_your_impact_match', 'eligible_almost_home_match' ]"
     ],
     "language": "python",
     "metadata": {},
     "outputs": [],
     "prompt_number": 8
    },
    {
     "cell_type": "code",
     "collapsed": false,
     "input": [
      "projects = np.array(projects[projectCatogorialColumns])"
     ],
     "language": "python",
     "metadata": {},
     "outputs": [],
     "prompt_number": 9
    },
    {
     "cell_type": "code",
     "collapsed": false,
     "input": [
      "for i in range(0, projects.shape[1]):\n",
      "    le = LabelEncoder()\n",
      "    projects[:,i] = le.fit_transform(projects[:,i])\n",
      "projects = projects.astype(float)"
     ],
     "language": "python",
     "metadata": {},
     "outputs": [],
     "prompt_number": 10
    },
    {
     "cell_type": "code",
     "collapsed": false,
     "input": [
      "ohe = OneHotEncoder()\n",
      "projects = ohe.fit_transform(projects)"
     ],
     "language": "python",
     "metadata": {},
     "outputs": [],
     "prompt_number": 11
    },
    {
     "cell_type": "code",
     "collapsed": false,
     "input": [
      "train = projects[train_idx]\n",
      "test = projects[test_idx]"
     ],
     "language": "python",
     "metadata": {},
     "outputs": [],
     "prompt_number": 12
    },
    {
     "cell_type": "code",
     "collapsed": false,
     "input": [
      "lr = SGDClassifier()\n",
      "parameters = {'alpha':[0.001],'loss':['log'],\n",
      "'penalty' : ['l2'], 'n_iter':[100,1000],'n_jobs':[-1]}\n",
      "clf = GridSearchCV(lr, parameters, scoring = 'roc_auc', n_jobs = -1)"
     ],
     "language": "python",
     "metadata": {},
     "outputs": [],
     "prompt_number": 13
    },
    {
     "cell_type": "code",
     "collapsed": false,
     "input": [
      "clf.fit(train, outcomes=='t')"
     ],
     "language": "python",
     "metadata": {},
     "outputs": [
      {
       "output_type": "pyout",
       "prompt_number": 14,
       "text": [
        "GridSearchCV(cv=None,\n",
        "       estimator=SGDClassifier(alpha=0.0001, class_weight=None, epsilon=0.1, eta0=0.0,\n",
        "       fit_intercept=True, l1_ratio=0.15, learning_rate='optimal',\n",
        "       loss='hinge', n_iter=5, n_jobs=1, penalty='l2', power_t=0.5,\n",
        "       random_state=None, rho=None, shuffle=False, verbose=0,\n",
        "       warm_start=False),\n",
        "       fit_params={}, iid=True, loss_func=None, n_jobs=-1,\n",
        "       param_grid={'penalty': ['l2'], 'alpha': [0.001], 'n_iter': [100, 1000], 'n_jobs': [-1], 'loss': ['log']},\n",
        "       pre_dispatch='2*n_jobs', refit=True, score_func=None,\n",
        "       scoring='roc_auc', verbose=0)"
       ]
      }
     ],
     "prompt_number": 14
    },
    {
     "cell_type": "code",
     "collapsed": false,
     "input": [
      "clf.grid_scores_"
     ],
     "language": "python",
     "metadata": {},
     "outputs": [
      {
       "output_type": "pyout",
       "prompt_number": 15,
       "text": [
        "[mean: 0.63304, std: 0.00048, params: {'penalty': 'l2', 'alpha': 0.001, 'n_iter': 100, 'n_jobs': -1, 'loss': 'log'},\n",
        " mean: 0.63304, std: 0.00051, params: {'penalty': 'l2', 'alpha': 0.001, 'n_iter': 1000, 'n_jobs': -1, 'loss': 'log'}]"
       ]
      }
     ],
     "prompt_number": 15
    },
    {
     "cell_type": "code",
     "collapsed": false,
     "input": [
      "clf.best_estimator_"
     ],
     "language": "python",
     "metadata": {},
     "outputs": [
      {
       "output_type": "pyout",
       "prompt_number": 16,
       "text": [
        "SGDClassifier(alpha=0.001, class_weight=None, epsilon=0.1, eta0=0.0,\n",
        "       fit_intercept=True, l1_ratio=0.15, learning_rate='optimal',\n",
        "       loss='log', n_iter=1000, n_jobs=-1, penalty='l2', power_t=0.5,\n",
        "       random_state=None, rho=None, shuffle=False, verbose=0,\n",
        "       warm_start=False)"
       ]
      }
     ],
     "prompt_number": 16
    },
    {
     "cell_type": "code",
     "collapsed": false,
     "input": [
      "clf.best_score_"
     ],
     "language": "python",
     "metadata": {},
     "outputs": [
      {
       "output_type": "pyout",
       "prompt_number": 17,
       "text": [
        "0.6330430843742525"
       ]
      }
     ],
     "prompt_number": 17
    },
    {
     "cell_type": "code",
     "collapsed": false,
     "input": [
      "clf.best_params_"
     ],
     "language": "python",
     "metadata": {},
     "outputs": [
      {
       "output_type": "pyout",
       "prompt_number": 18,
       "text": [
        "{'alpha': 0.001, 'loss': 'log', 'n_iter': 1000, 'n_jobs': -1, 'penalty': 'l2'}"
       ]
      }
     ],
     "prompt_number": 18
    },
    {
     "cell_type": "code",
     "collapsed": false,
     "input": [],
     "language": "python",
     "metadata": {},
     "outputs": [],
     "prompt_number": 18
    }
   ],
   "metadata": {}
  }
 ]
}