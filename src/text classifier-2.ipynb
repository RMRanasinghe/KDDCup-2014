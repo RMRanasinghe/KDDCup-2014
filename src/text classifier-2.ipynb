{
 "metadata": {
  "name": "text classifier-2"
 },
 "nbformat": 3,
 "nbformat_minor": 0,
 "worksheets": [
  {
   "cells": [
    {
     "cell_type": "code",
     "collapsed": false,
     "input": [
      "from sklearn.grid_search import GridSearchCV\n",
      "import pandas as pd\n",
      "import numpy as np\n",
      "from sklearn import linear_model\n",
      "from sklearn.feature_extraction.text import TfidfVectorizer\n",
      "from sklearn.linear_model import SGDClassifier\n",
      "import re\n",
      "from datetime import datetime\n",
      "from sklearn.metrics import roc_auc_score\n",
      "from sklearn.pipeline import Pipeline"
     ],
     "language": "python",
     "metadata": {},
     "outputs": [],
     "prompt_number": 12
    },
    {
     "cell_type": "code",
     "collapsed": false,
     "input": [
      "def clean(s):\n",
      "        try:\n",
      "            return \" \".join(re.findall(r'\\w+', s,flags = re.UNICODE | re.LOCALE)).lower()\n",
      "        except:\n",
      "            return \" \".join(re.findall(r'\\w+', \"no_text\",flags = re.UNICODE | re.LOCALE)).lower()\n",
      "\n",
      "start = datetime.now()\n",
      "#donations = pd.read_csv('donations.csv')\n",
      "projects = pd.read_csv('../data/projects.csv')\n",
      "outcomes = pd.read_csv('../data/outcomes.csv')\n",
      "#resources = pd.read_csv('resources.csv')\n",
      "sample = pd.read_csv('../data/sampleSubmission.csv')\n",
      "essays = pd.read_csv('../data/essays.csv')\n",
      "\n",
      "\n",
      "ess_proj = essays.sort('projectid')\n",
      "projects = projects.sort('projectid')\n",
      "sample = sample.sort('projectid')\n",
      "#ess_proj = pd.merge(essays, projects, on='projectid')\n",
      "outcomes = outcomes.sort('projectid')"
     ],
     "language": "python",
     "metadata": {},
     "outputs": [],
     "prompt_number": 13
    },
    {
     "cell_type": "code",
     "collapsed": false,
     "input": [
      "projects = projects.merge(outcomes, how ='inner')\n",
      "projects = projects.merge(essays,how='inner')\n",
      "del essays\n",
      "dates = np.array(projects.date_posted)\n",
      "train_idx = np.where(dates < '2014-01-01')[0]\n",
      "test_idx = np.where(dates >= '2014-01-01')[0]\n",
      "outcomes = np.array(projects.is_exciting)\n",
      "projects.essay = projects.essay.apply(clean)"
     ],
     "language": "python",
     "metadata": {},
     "outputs": [],
     "prompt_number": 14
    },
    {
     "cell_type": "code",
     "collapsed": false,
     "input": [
      "projects = np.array(projects.essay)\n",
      "train = projects[train_idx]\n",
      "del projects"
     ],
     "language": "python",
     "metadata": {},
     "outputs": [],
     "prompt_number": 15
    },
    {
     "cell_type": "code",
     "collapsed": false,
     "input": [
      "pipeline = Pipeline([\n",
      "    ('tfidf', TfidfVectorizer()),\n",
      "    ('clf', SGDClassifier()),\n",
      "])"
     ],
     "language": "python",
     "metadata": {},
     "outputs": [],
     "prompt_number": 16
    },
    {
     "cell_type": "code",
     "collapsed": false,
     "input": [
      "parameters = {\n",
      "    'tfidf__use_idf': [False],\n",
      "    'tfidf__norm': ('l1', 'l2'),\n",
      "    'tfidf__max_df':[1.0],\n",
      "    'tfidf__max_features':(10000,20000),\n",
      "    #'clf__alpha': (0.001, 0.00001, 0.000001),\n",
      "    #'clf__penalty': ('l2', 'elasticnet'),\n",
      "    #'clf__n_iter': (10, 100),\n",
      "    #'clf__loss':('modified_huber','log'),\n",
      "    \n",
      "}\n",
      "grid_search = GridSearchCV(pipeline, parameters, verbose=1, scoring='roc_auc')\n",
      "grid_search.fit(train, outcomes=='t')"
     ],
     "language": "python",
     "metadata": {},
     "outputs": [
      {
       "output_type": "stream",
       "stream": "stderr",
       "text": [
        "[Parallel(n_jobs=1)]: Done   1 jobs       | elapsed:  2.7min\n",
        "[Parallel(n_jobs=1)]: Done  12 out of  12 | elapsed: 31.4min finished\n"
       ]
      },
      {
       "output_type": "stream",
       "stream": "stdout",
       "text": [
        "Fitting 3 folds for each of 4 candidates, totalling 12 fits\n"
       ]
      },
      {
       "output_type": "pyout",
       "prompt_number": 18,
       "text": [
        "GridSearchCV(cv=None,\n",
        "       estimator=Pipeline(steps=[('tfidf', TfidfVectorizer(analyzer=u'word', binary=False, charset=None,\n",
        "        charset_error=None, decode_error=u'strict',\n",
        "        dtype=<type 'numpy.int64'>, encoding=u'utf-8', input=u'content',\n",
        "        lowercase=True, max_df=1.0, max_features=None, min_df=1,\n",
        "        ngram_range=(1, 1), nor...ower_t=0.5,\n",
        "       random_state=None, rho=None, shuffle=False, verbose=0,\n",
        "       warm_start=False))]),\n",
        "       fit_params={}, iid=True, loss_func=None, n_jobs=1,\n",
        "       param_grid={'tfidf__max_features': (10000, 20000), 'tfidf__max_df': [1.0], 'tfidf__use_idf': [False], 'tfidf__norm': ('l1', 'l2')},\n",
        "       pre_dispatch='2*n_jobs', refit=True, score_func=None,\n",
        "       scoring='roc_auc', verbose=1)"
       ]
      }
     ],
     "prompt_number": 18
    },
    {
     "cell_type": "code",
     "collapsed": false,
     "input": [
      "end = datetime.now()\n",
      "print (end- start)"
     ],
     "language": "python",
     "metadata": {},
     "outputs": [
      {
       "output_type": "stream",
       "stream": "stdout",
       "text": [
        "0:50:20.975347\n"
       ]
      }
     ],
     "prompt_number": 19
    },
    {
     "cell_type": "code",
     "collapsed": false,
     "input": [
      "grid_search.best_estimator_"
     ],
     "language": "python",
     "metadata": {},
     "outputs": [
      {
       "output_type": "pyout",
       "prompt_number": 20,
       "text": [
        "Pipeline(steps=[('tfidf', TfidfVectorizer(analyzer=u'word', binary=False, charset=None,\n",
        "        charset_error=None, decode_error=u'strict',\n",
        "        dtype=<type 'numpy.int64'>, encoding=u'utf-8', input=u'content',\n",
        "        lowercase=True, max_df=1.0, max_features=20000, min_df=1,\n",
        "        ngram_range=(1, 1), no...ower_t=0.5,\n",
        "       random_state=None, rho=None, shuffle=False, verbose=0,\n",
        "       warm_start=False))])"
       ]
      }
     ],
     "prompt_number": 20
    },
    {
     "cell_type": "code",
     "collapsed": false,
     "input": [
      "grid_search.best_params_"
     ],
     "language": "python",
     "metadata": {},
     "outputs": [
      {
       "output_type": "pyout",
       "prompt_number": 21,
       "text": [
        "{'tfidf__max_df': 1.0,\n",
        " 'tfidf__max_features': 20000,\n",
        " 'tfidf__norm': 'l1',\n",
        " 'tfidf__use_idf': False}"
       ]
      }
     ],
     "prompt_number": 21
    },
    {
     "cell_type": "code",
     "collapsed": false,
     "input": [
      "grid_search.best_score_"
     ],
     "language": "python",
     "metadata": {},
     "outputs": [
      {
       "output_type": "pyout",
       "prompt_number": 22,
       "text": [
        "0.65453184007251464"
       ]
      }
     ],
     "prompt_number": 22
    },
    {
     "cell_type": "code",
     "collapsed": false,
     "input": [
      "grid_search.grid_scores_"
     ],
     "language": "python",
     "metadata": {},
     "outputs": [
      {
       "output_type": "pyout",
       "prompt_number": 23,
       "text": [
        "[mean: 0.65297, std: 0.00257, params: {'tfidf__max_df': 1.0, 'tfidf__use_idf': False, 'tfidf__max_features': 10000, 'tfidf__norm': 'l1'},\n",
        " mean: 0.64724, std: 0.00432, params: {'tfidf__max_df': 1.0, 'tfidf__use_idf': False, 'tfidf__max_features': 10000, 'tfidf__norm': 'l2'},\n",
        " mean: 0.65453, std: 0.00137, params: {'tfidf__max_df': 1.0, 'tfidf__use_idf': False, 'tfidf__max_features': 20000, 'tfidf__norm': 'l1'},\n",
        " mean: 0.64601, std: 0.00160, params: {'tfidf__max_df': 1.0, 'tfidf__use_idf': False, 'tfidf__max_features': 20000, 'tfidf__norm': 'l2'}]"
       ]
      }
     ],
     "prompt_number": 23
    }
   ],
   "metadata": {}
  }
 ]
}