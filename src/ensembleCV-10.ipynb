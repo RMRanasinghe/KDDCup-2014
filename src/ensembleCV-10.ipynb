{
 "metadata": {
  "name": "ensembleCV-10"
 },
 "nbformat": 3,
 "nbformat_minor": 0,
 "worksheets": [
  {
   "cells": [
    {
     "cell_type": "heading",
     "level": 3,
     "metadata": {},
     "source": [
      "Using Fullfillment labor material"
     ]
    },
    {
     "cell_type": "code",
     "collapsed": false,
     "input": [
      "import pandas as pd\n",
      "import numpy as np\n",
      "from sklearn.linear_model import LogisticRegression\n",
      "from sklearn.linear_model import SGDClassifier\n",
      "from sklearn.ensemble import RandomForestClassifier\n",
      "from sklearn.preprocessing import LabelEncoder\n",
      "from sklearn.preprocessing import OneHotEncoder\n",
      "from sklearn import cross_validation\n",
      "from sklearn.metrics import roc_auc_score\n",
      "import re"
     ],
     "language": "python",
     "metadata": {},
     "outputs": [],
     "prompt_number": 1
    },
    {
     "cell_type": "code",
     "collapsed": false,
     "input": [
      "def clean(s):\n",
      "    try:\n",
      "        return \" \".join(re.findall(r'\\w+', s,flags = re.UNICODE | re.LOCALE)).lower()\n",
      "    except:\n",
      "        return \" \".join(re.findall(r'\\w+', \"n\",flags = re.UNICODE | re.LOCALE)).lower()\n",
      "        \n",
      "def length(s):\n",
      "    return len(s)/10\n"
     ],
     "language": "python",
     "metadata": {},
     "outputs": [],
     "prompt_number": 2
    },
    {
     "cell_type": "code",
     "collapsed": false,
     "input": [
      "#donations = pd.read_csv('../data/donations.csv').sort('projectid')\n",
      "projects = pd.read_csv('../data/projects.csv').sort('projectid')\n",
      "outcomes = pd.read_csv('../data/outcomes.csv').sort('projectid')\n",
      "resources = pd.read_csv('../data/resources.csv').sort('projectid')\n",
      "sample = pd.read_csv('../data/sampleSubmission.csv').sort('projectid')\n",
      "essays = pd.read_csv('../data/essays.csv').sort('projectid')"
     ],
     "language": "python",
     "metadata": {},
     "outputs": [],
     "prompt_number": 3
    },
    {
     "cell_type": "code",
     "collapsed": false,
     "input": [
      "proj_type = np.zeros((projects.shape[0],7))\n",
      "le1 = LabelEncoder()\n",
      "le2 = LabelEncoder()\n",
      "le1.fit(projects.projectid)\n",
      "le2.fit(resources.project_resource_type)\n",
      "resources.projectid = le1.transform(resources.projectid)\n",
      "resources.project_resource_type=le2.transform(resources.project_resource_type)\n",
      "proj_type[resources.projectid, resources.project_resource_type] = 1\n",
      "proj_type = np.column_stack((projects.projectid,proj_type))\n",
      "temp_df = pd.DataFrame(proj_type,columns=['projectid','resource_a', 'resource_b', 'resource_c', 'resource_d', 'resource_e','resource_f','resource_g'])\n",
      "del proj_type\n",
      "del resources"
     ],
     "language": "python",
     "metadata": {},
     "outputs": [],
     "prompt_number": 4
    },
    {
     "cell_type": "code",
     "collapsed": false,
     "input": [
      "projects = projects.merge(outcomes, how ='inner')\n",
      "projects = projects.merge(temp_df, how ='inner')\n",
      "del temp_df\n",
      "projects = projects.merge(essays,how='inner')\n",
      "del essays\n",
      "dates = np.array(projects.date_posted)\n",
      "train_idx = np.where((dates < '2013-05-01') & (dates >= '2010-01-01'))[0]\n",
      "test_idx = np.where(dates >= '2013-05-01')[0]\n",
      "outcomes = np.array(projects.is_exciting)"
     ],
     "language": "python",
     "metadata": {},
     "outputs": [],
     "prompt_number": 5
    },
    {
     "cell_type": "code",
     "collapsed": false,
     "input": [
      "projects.essay = projects.essay.apply(clean)\n",
      "essay_length = projects.essay.apply(length)\n",
      "projects.secondary_focus_area = projects.secondary_focus_area.fillna(projects.primary_focus_area)\n",
      "projects.secondary_focus_subject = projects.secondary_focus_subject.fillna(projects.primary_focus_subject)\n",
      "projects = projects.fillna(method='pad')\n",
      "\n",
      "projects['essay_length'] = essay_length\n",
      "projects['month'] = ''\n",
      "projects['total_price'] = 0\n",
      "projects['student'] = 0\n",
      "for i in range(0,projects.shape[0]):\n",
      "    projects['month'][i] = projects.date_posted[i][5:7]\n",
      "    \n",
      "    totalPrice = projects.total_price_excluding_optional_support[i]\n",
      "    if(totalPrice < 250):\n",
      "        projects.total_price[i] = 0\n",
      "    elif ((totalPrice >= 250)&(totalPrice < 400)):\n",
      "        projects.total_price[i] = 1\n",
      "    elif((totalPrice >= 400)&(totalPrice < 600)):\n",
      "        projects.total_price[i] = 2\n",
      "    elif((totalPrice >= 600)&(totalPrice < 10000)):\n",
      "        projects.total_price[i] = 3\n",
      "    elif((totalPrice >= 10000)&(totalPrice < 100000)):\n",
      "        projects.total_price[i] = 4\n",
      "    else:\n",
      "        projects.total_price[i] = 5\n",
      "        \n",
      "    studentNo = int(projects.students_reached[i])\n",
      "    if(studentNo == 0):\n",
      "        projects.student[i] = 0\n",
      "    elif(studentNo <100):\n",
      "        projects.student[i] = (studentNo/5) + 1\n",
      "    elif(studentNo <= 500):\n",
      "        projects.student[i] = 100\n",
      "    else:\n",
      "        projects.student[i] = 1000"
     ],
     "language": "python",
     "metadata": {},
     "outputs": [],
     "prompt_number": 6
    },
    {
     "cell_type": "code",
     "collapsed": false,
     "input": [
      "cols = ['school_city', 'school_state', 'school_zip', 'school_metro', 'school_district', 'school_county', 'school_charter', 'school_magnet',\n",
      " 'school_year_round', 'school_nlns', 'school_kipp', 'school_charter_ready_promise', 'teacher_prefix', 'teacher_teach_for_america', 'teacher_ny_teaching_fellow', 'primary_focus_subject','primary_focus_area', \n",
      "'secondary_focus_subject', 'secondary_focus_area', 'resource_type', 'poverty_level', 'grade_level',\n",
      "'students_reached', 'eligible_double_your_impact_match', 'eligible_almost_home_match','month', 'total_price','student','essay_length','resource_a', 'resource_b', 'resource_c', 'resource_d', 'resource_e','resource_f','resource_g' ]\n",
      "projects = np.array(projects[cols])"
     ],
     "language": "python",
     "metadata": {},
     "outputs": [],
     "prompt_number": 7
    },
    {
     "cell_type": "code",
     "collapsed": false,
     "input": [
      "for i in range(0, projects.shape[1]):\n",
      "    le = LabelEncoder()\n",
      "    projects[:,i] = le.fit_transform(projects[:,i])\n",
      "projects = projects.astype(float)"
     ],
     "language": "python",
     "metadata": {},
     "outputs": [],
     "prompt_number": 8
    },
    {
     "cell_type": "code",
     "collapsed": false,
     "input": [
      "train, crossval, outcomeTrain, outcomeCrossVal = projects[train_idx], projects[test_idx], outcomes[train_idx], outcomes[test_idx]\n",
      "model = RandomForestClassifier(n_estimators = 100, criterion = 'entropy', n_jobs = -1)\n",
      "model.fit(train, outcomeTrain=='t')\n",
      "preds3 = model.predict_proba(crossval)[:,1]"
     ],
     "language": "python",
     "metadata": {},
     "outputs": [],
     "prompt_number": 9
    },
    {
     "cell_type": "code",
     "collapsed": false,
     "input": [
      "ohe = OneHotEncoder()\n",
      "projects = ohe.fit_transform(projects)"
     ],
     "language": "python",
     "metadata": {},
     "outputs": [],
     "prompt_number": 10
    },
    {
     "cell_type": "code",
     "collapsed": false,
     "input": [
      "train, crossval, outcomeTrain, outcomeCrossVal = projects[train_idx], projects[test_idx], outcomes[train_idx], outcomes[test_idx]"
     ],
     "language": "python",
     "metadata": {},
     "outputs": [],
     "prompt_number": 11
    },
    {
     "cell_type": "code",
     "collapsed": false,
     "input": [
      "model = LogisticRegression(C = .1)\n",
      "model.fit(train, outcomeTrain=='t')\n",
      "preds1 = model.predict_proba(crossval)[:,1]\n",
      "\n",
      "model = SGDClassifier(alpha = 0.001, loss = 'modified_huber', penalty = 'l2', n_iter = 1000, n_jobs = -1)\n",
      "model.fit(train, outcomeTrain=='t')\n",
      "preds2 = model.predict_proba(crossval)[:,1]"
     ],
     "language": "python",
     "metadata": {},
     "outputs": [],
     "prompt_number": 12
    },
    {
     "cell_type": "code",
     "collapsed": false,
     "input": [
      "preds = 0.4*preds1 + 0.3*preds2 + 0.3*preds3"
     ],
     "language": "python",
     "metadata": {},
     "outputs": [],
     "prompt_number": 17
    },
    {
     "cell_type": "code",
     "collapsed": false,
     "input": [
      "value = roc_auc_score(outcomeCrossVal=='t', preds)\n",
      "value"
     ],
     "language": "python",
     "metadata": {},
     "outputs": [
      {
       "output_type": "pyout",
       "prompt_number": 18,
       "text": [
        "0.63330515243914443"
       ]
      }
     ],
     "prompt_number": 18
    },
    {
     "cell_type": "code",
     "collapsed": false,
     "input": [],
     "language": "python",
     "metadata": {},
     "outputs": []
    }
   ],
   "metadata": {}
  }
 ]
}