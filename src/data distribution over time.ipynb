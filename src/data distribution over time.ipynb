{
 "metadata": {
  "name": "data distribution over time"
 },
 "nbformat": 3,
 "nbformat_minor": 0,
 "worksheets": [
  {
   "cells": [
    {
     "cell_type": "code",
     "collapsed": false,
     "input": [
      "import pandas as pd\n",
      "import numpy as np\n",
      "from sklearn.preprocessing import LabelEncoder\n",
      "import pylab as plt"
     ],
     "language": "python",
     "metadata": {},
     "outputs": [],
     "prompt_number": 1
    },
    {
     "cell_type": "code",
     "collapsed": false,
     "input": [
      "projects = pd.read_csv('../data/projects.csv')\n",
      "outcome = pd.read_csv('../data/outcomes.csv')"
     ],
     "language": "python",
     "metadata": {},
     "outputs": [],
     "prompt_number": 2
    },
    {
     "cell_type": "code",
     "collapsed": false,
     "input": [
      "projects = projects.merge(outcome, how = 'inner')"
     ],
     "language": "python",
     "metadata": {},
     "outputs": [],
     "prompt_number": 3
    },
    {
     "cell_type": "code",
     "collapsed": false,
     "input": [
      "projects = projects.sort('date_posted')"
     ],
     "language": "python",
     "metadata": {},
     "outputs": [],
     "prompt_number": 4
    },
    {
     "cell_type": "code",
     "collapsed": false,
     "input": [
      "projects.columns"
     ],
     "language": "python",
     "metadata": {},
     "outputs": [
      {
       "output_type": "pyout",
       "prompt_number": 5,
       "text": [
        "Index([projectid, teacher_acctid, schoolid, school_ncesid, school_latitude, school_longitude, school_city, school_state, school_zip, school_metro, school_district, school_county, school_charter, school_magnet, school_year_round, school_nlns, school_kipp, school_charter_ready_promise, teacher_prefix, teacher_teach_for_america, teacher_ny_teaching_fellow, primary_focus_subject, primary_focus_area, secondary_focus_subject, secondary_focus_area, resource_type, poverty_level, grade_level, fulfillment_labor_materials, total_price_excluding_optional_support, total_price_including_optional_support, students_reached, eligible_double_your_impact_match, eligible_almost_home_match, date_posted, is_exciting, at_least_1_teacher_referred_donor, fully_funded, at_least_1_green_donation, great_chat, three_or_more_non_teacher_referred_donors, one_non_teacher_referred_donor_giving_100_plus, donation_from_thoughtful_donor, great_messages_proportion, teacher_referred_count, non_teacher_referred_count], dtype=object)"
       ]
      }
     ],
     "prompt_number": 5
    },
    {
     "cell_type": "code",
     "collapsed": false,
     "input": [
      "projects = projects[['date_posted','is_exciting','at_least_1_teacher_referred_donor', 'fully_funded','at_least_1_green_donation','great_chat',\n",
      "'three_or_more_non_teacher_referred_donors', 'one_non_teacher_referred_donor_giving_100_plus','donation_from_thoughtful_donor']]"
     ],
     "language": "python",
     "metadata": {},
     "outputs": [],
     "prompt_number": 6
    },
    {
     "cell_type": "code",
     "collapsed": false,
     "input": [
      "le = LabelEncoder()"
     ],
     "language": "python",
     "metadata": {},
     "outputs": [],
     "prompt_number": 7
    },
    {
     "cell_type": "code",
     "collapsed": false,
     "input": [
      "for i in range(0,projects.shape[0]):\n",
      "    projects.date_posted[i] = projects.date_posted[i][0:7]"
     ],
     "language": "python",
     "metadata": {},
     "outputs": [],
     "prompt_number": 8
    },
    {
     "cell_type": "code",
     "collapsed": false,
     "input": [
      "projects['date_posted'] = le.fit_transform(projects.date_posted)"
     ],
     "language": "python",
     "metadata": {},
     "outputs": [],
     "prompt_number": 9
    },
    {
     "cell_type": "code",
     "collapsed": false,
     "input": [
      "plotNumb = 1\n",
      "for col in projects.columns:\n",
      "    if(col != 'date_posted'):\n",
      "        tot = projects[projects.date_posted == 0]\n",
      "        true = [float(tot[tot[col] == 't'].count()[0])/float(tot.count()[0])]\n",
      "    \n",
      "        for i in range(1,projects.date_posted.max()+1):\n",
      "            tot = projects[projects.date_posted == i]\n",
      "            true.append(float(tot[tot[col] == 't'].count()[0])/float(tot.count()[0]))\n",
      "        \n",
      "        plt.subplot(projects.shape[1]/2, 2, plotNumb)\n",
      "        plt.plot(true,'b.-')\n",
      "        plt.title(col)\n",
      "        plotNumb = plotNumb + 1"
     ],
     "language": "python",
     "metadata": {},
     "outputs": [],
     "prompt_number": 10
    },
    {
     "cell_type": "code",
     "collapsed": false,
     "input": [
      "plt.show()"
     ],
     "language": "python",
     "metadata": {},
     "outputs": [],
     "prompt_number": 11
    },
    {
     "cell_type": "code",
     "collapsed": false,
     "input": [],
     "language": "python",
     "metadata": {},
     "outputs": [],
     "prompt_number": 11
    }
   ],
   "metadata": {}
  }
 ]
}