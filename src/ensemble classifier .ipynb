{
 "metadata": {
  "name": "ensemble classifier "
 },
 "nbformat": 3,
 "nbformat_minor": 0,
 "worksheets": [
  {
   "cells": [
    {
     "cell_type": "code",
     "collapsed": false,
     "input": [
      "import pandas as pd\n",
      "import numpy as np\n",
      "from sklearn.linear_model import SGDClassifier\n",
      "from sklearn.linear_model import LogisticRegression\n",
      "from sklearn.ensemble import RandomForestClassifier\n",
      "from sklearn.preprocessing import LabelEncoder\n",
      "from sklearn.preprocessing import OneHotEncoder\n",
      "from datetime import datetime"
     ],
     "language": "python",
     "metadata": {},
     "outputs": [],
     "prompt_number": 1
    },
    {
     "cell_type": "code",
     "collapsed": false,
     "input": [
      "startTime = datetime.now()"
     ],
     "language": "python",
     "metadata": {},
     "outputs": [],
     "prompt_number": 2
    },
    {
     "cell_type": "code",
     "collapsed": false,
     "input": [
      "#donations = pd.read_csv('../data/donations.csv').sort('projectid')\n",
      "projects = pd.read_csv('../data/projects.csv').sort('projectid')\n",
      "outcomes = pd.read_csv('../data/outcomes.csv').sort('projectid')\n",
      "#resources = pd.read_csv('../data/resources.csv').sort('projectid')\n",
      "sample = pd.read_csv('../data/sampleSubmission.csv').sort('projectid')\n",
      "#essays = pd.read_csv('../data/essays.csv').sort('projectid')"
     ],
     "language": "python",
     "metadata": {},
     "outputs": [],
     "prompt_number": 3
    },
    {
     "cell_type": "code",
     "collapsed": false,
     "input": [
      "dates = np.array(projects.date_posted)\n",
      "train_idx = np.where((dates < '2014-01-01') & (dates > '2010-01-01'))[0]\n",
      "test_idx = np.where(dates >= '2014-01-01')[0]\n",
      "outcomes = outcomes.merge(projects[projects.date_posted > '2010-01-01'], how ='inner')\n",
      "outcomes = np.array(outcomes.is_exciting)"
     ],
     "language": "python",
     "metadata": {},
     "outputs": [],
     "prompt_number": 4
    },
    {
     "cell_type": "code",
     "collapsed": false,
     "input": [
      "projects.secondary_focus_area = projects.secondary_focus_area.fillna(projects.primary_focus_area)\n",
      "projects.secondary_focus_subject = projects.secondary_focus_subject.fillna(projects.primary_focus_subject)\n",
      "projects = projects.fillna(method='pad')\n",
      "\n",
      "projects['month'] = ''\n",
      "\n",
      "for i in range(0,projects.shape[0]):\n",
      "    projects['month'][i] = projects.date_posted[i][5:7]"
     ],
     "language": "python",
     "metadata": {},
     "outputs": [],
     "prompt_number": 5
    },
    {
     "cell_type": "code",
     "collapsed": false,
     "input": [
      "cols = ['school_city', 'school_state', 'school_zip', 'school_metro', 'school_district', 'school_county', 'school_charter', 'school_magnet',\n",
      " 'school_year_round', 'school_nlns', 'school_kipp', 'school_charter_ready_promise', 'teacher_prefix', 'teacher_teach_for_america', 'teacher_ny_teaching_fellow', 'primary_focus_subject','primary_focus_area', \n",
      "'secondary_focus_subject', 'secondary_focus_area', 'resource_type', 'poverty_level', 'grade_level',\n",
      "'students_reached', 'eligible_double_your_impact_match', 'eligible_almost_home_match','month' ]\n",
      "projects = np.array(projects[cols])"
     ],
     "language": "python",
     "metadata": {},
     "outputs": [],
     "prompt_number": 6
    },
    {
     "cell_type": "code",
     "collapsed": false,
     "input": [
      "for i in range(0, projects.shape[1]):\n",
      "    le = LabelEncoder()\n",
      "    projects[:,i] = le.fit_transform(projects[:,i])\n",
      "projects = projects.astype(float)"
     ],
     "language": "python",
     "metadata": {},
     "outputs": [],
     "prompt_number": 7
    },
    {
     "cell_type": "code",
     "collapsed": false,
     "input": [
      "train = projects[train_idx]\n",
      "test = projects[test_idx]\n",
      "model = RandomForestClassifier(n_estimators = 100, criterion = 'entropy', n_jobs = -1)\n",
      "model.fit(train, outcomes=='t')\n",
      "preds3 = model.predict_proba(test)[:,1]"
     ],
     "language": "python",
     "metadata": {},
     "outputs": [],
     "prompt_number": 8
    },
    {
     "cell_type": "code",
     "collapsed": false,
     "input": [
      "ohe = OneHotEncoder()\n",
      "projects = ohe.fit_transform(projects)"
     ],
     "language": "python",
     "metadata": {},
     "outputs": [],
     "prompt_number": 9
    },
    {
     "cell_type": "code",
     "collapsed": false,
     "input": [
      "train = projects[train_idx]\n",
      "test = projects[test_idx]\n",
      "del projects"
     ],
     "language": "python",
     "metadata": {},
     "outputs": [],
     "prompt_number": 10
    },
    {
     "cell_type": "code",
     "collapsed": false,
     "input": [
      "model = LogisticRegression(C = .1)\n",
      "model.fit(train, outcomes=='t')\n",
      "preds1 = model.predict_proba(test)[:,1]\n",
      "\n",
      "model = SGDClassifier(alpha = 0.001, loss = 'modified_huber', penalty = 'l2', n_iter = 1000, n_jobs = -1)\n",
      "model.fit(train, outcomes=='t')\n",
      "preds2 = model.predict_proba(test)[:,1]"
     ],
     "language": "python",
     "metadata": {},
     "outputs": [],
     "prompt_number": 11
    },
    {
     "cell_type": "code",
     "collapsed": false,
     "input": [
      "sample['is_exciting'] = 0.6*preds1 + 0.2*preds2 + 0.2*preds3\n",
      "sample.to_csv('predictions.csv', index = False)"
     ],
     "language": "python",
     "metadata": {},
     "outputs": [],
     "prompt_number": 12
    },
    {
     "cell_type": "code",
     "collapsed": false,
     "input": [
      "endTime = datetime.now()\n",
      "print endTime - startTime"
     ],
     "language": "python",
     "metadata": {},
     "outputs": [
      {
       "output_type": "stream",
       "stream": "stdout",
       "text": [
        "0:03:54.566861\n"
       ]
      }
     ],
     "prompt_number": 13
    }
   ],
   "metadata": {}
  }
 ]
}