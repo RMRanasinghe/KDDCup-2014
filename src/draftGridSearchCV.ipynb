{
 "metadata": {
  "name": "draftGridSearchCV"
 },
 "nbformat": 3,
 "nbformat_minor": 0,
 "worksheets": [
  {
   "cells": [
    {
     "cell_type": "code",
     "collapsed": false,
     "input": [
      "import pandas as pd\n",
      "import numpy as np\n",
      "from sklearn.linear_model import LogisticRegression\n",
      "from sklearn.preprocessing import LabelEncoder\n",
      "from sklearn.preprocessing import OneHotEncoder\n",
      "from sklearn.grid_search import GridSearchCV"
     ],
     "language": "python",
     "metadata": {},
     "outputs": [],
     "prompt_number": 1
    },
    {
     "cell_type": "code",
     "collapsed": false,
     "input": [
      "#donations = pd.read_csv('../data/donations.csv').sort('projectid')\n",
      "projects = pd.read_csv('../data/projects.csv').sort('projectid')\n",
      "outcomes = pd.read_csv('../data/outcomes.csv').sort('projectid')\n",
      "#resources = pd.read_csv('../data/resources.csv').sort('projectid')\n",
      "sample = pd.read_csv('../data/sampleSubmission.csv').sort('projectid')\n",
      "#essays = pd.read_csv('../data/essays.csv').sort('projectid')"
     ],
     "language": "python",
     "metadata": {},
     "outputs": [],
     "prompt_number": 2
    },
    {
     "cell_type": "code",
     "collapsed": false,
     "input": [
      "dates = np.array(projects.date_posted)\n",
      "train_idx = np.where(dates < '2014-01-01')[0]\n",
      "test_idx = np.where(dates >= '2014-01-01')[0]"
     ],
     "language": "python",
     "metadata": {},
     "outputs": [],
     "prompt_number": 3
    },
    {
     "cell_type": "code",
     "collapsed": false,
     "input": [
      "projects = projects.fillna(method='pad')"
     ],
     "language": "python",
     "metadata": {},
     "outputs": [],
     "prompt_number": 4
    },
    {
     "cell_type": "code",
     "collapsed": false,
     "input": [
      "outcomes = np.array(outcomes.is_exciting)"
     ],
     "language": "python",
     "metadata": {},
     "outputs": [],
     "prompt_number": 5
    },
    {
     "cell_type": "code",
     "collapsed": false,
     "input": [
      "projectCatogorialColumns = ['school_city', 'school_state', 'school_zip', 'school_metro', 'school_district', 'school_county', 'school_charter', 'school_magnet',\n",
      " 'school_year_round', 'school_nlns', 'school_kipp', 'school_charter_ready_promise', 'teacher_prefix', 'teacher_teach_for_america', 'teacher_ny_teaching_fellow', 'primary_focus_subject','primary_focus_area', \n",
      "'secondary_focus_subject', 'secondary_focus_area', 'resource_type', 'poverty_level', 'grade_level',\n",
      "'students_reached', 'eligible_double_your_impact_match', 'eligible_almost_home_match' ]"
     ],
     "language": "python",
     "metadata": {},
     "outputs": [],
     "prompt_number": 6
    },
    {
     "cell_type": "code",
     "collapsed": false,
     "input": [
      "projects = np.array(projects[projectCatogorialColumns])"
     ],
     "language": "python",
     "metadata": {},
     "outputs": [],
     "prompt_number": 7
    },
    {
     "cell_type": "code",
     "collapsed": false,
     "input": [
      "for i in range(0, projects.shape[1]):\n",
      "    le = LabelEncoder()\n",
      "    projects[:,i] = le.fit_transform(projects[:,i])\n",
      "projects = projects.astype(float)"
     ],
     "language": "python",
     "metadata": {},
     "outputs": [],
     "prompt_number": 8
    },
    {
     "cell_type": "code",
     "collapsed": false,
     "input": [
      "ohe = OneHotEncoder()\n",
      "projects = ohe.fit_transform(projects)"
     ],
     "language": "python",
     "metadata": {},
     "outputs": [],
     "prompt_number": 9
    },
    {
     "cell_type": "code",
     "collapsed": false,
     "input": [
      "train = projects[train_idx]\n",
      "test = projects[test_idx]"
     ],
     "language": "python",
     "metadata": {},
     "outputs": [],
     "prompt_number": 10
    },
    {
     "cell_type": "code",
     "collapsed": false,
     "input": [
      "lr = LogisticRegression()\n",
      "parameters = {'C':[0.01,0.1,1,10],'penalty':['l1','l2'] }\n",
      "clf = GridSearchCV(lr, parameters, scoring = 'roc_auc', n_jobs = -1)"
     ],
     "language": "python",
     "metadata": {},
     "outputs": [],
     "prompt_number": 11
    },
    {
     "cell_type": "code",
     "collapsed": false,
     "input": [
      "clf.fit(train, outcomes=='t')"
     ],
     "language": "python",
     "metadata": {},
     "outputs": [
      {
       "output_type": "pyout",
       "prompt_number": 12,
       "text": [
        "GridSearchCV(cv=None,\n",
        "       estimator=LogisticRegression(C=1.0, class_weight=None, dual=False, fit_intercept=True,\n",
        "          intercept_scaling=1, penalty='l2', random_state=None, tol=0.0001),\n",
        "       fit_params={}, iid=True, loss_func=None, n_jobs=-1,\n",
        "       param_grid={'penalty': ['l1', 'l2'], 'C': [0.01, 0.1, 1, 10]},\n",
        "       pre_dispatch='2*n_jobs', refit=True, score_func=None,\n",
        "       scoring='roc_auc', verbose=0)"
       ]
      }
     ],
     "prompt_number": 12
    },
    {
     "cell_type": "code",
     "collapsed": false,
     "input": [
      "clf.grid_scores_"
     ],
     "language": "python",
     "metadata": {},
     "outputs": [
      {
       "output_type": "pyout",
       "prompt_number": 13,
       "text": [
        "[mean: 0.60800, std: 0.00078, params: {'penalty': 'l1', 'C': 0.01},\n",
        " mean: 0.64642, std: 0.00068, params: {'penalty': 'l2', 'C': 0.01},\n",
        " mean: 0.63969, std: 0.00061, params: {'penalty': 'l1', 'C': 0.1},\n",
        " mean: 0.66460, std: 0.00092, params: {'penalty': 'l2', 'C': 0.1},\n",
        " mean: 0.66139, std: 0.00081, params: {'penalty': 'l1', 'C': 1},\n",
        " mean: 0.65921, std: 0.00128, params: {'penalty': 'l2', 'C': 1},\n",
        " mean: 0.64540, std: 0.00178, params: {'penalty': 'l1', 'C': 10},\n",
        " mean: 0.64633, std: 0.00176, params: {'penalty': 'l2', 'C': 10}]"
       ]
      }
     ],
     "prompt_number": 13
    },
    {
     "cell_type": "code",
     "collapsed": false,
     "input": [
      "clf.best_estimator_"
     ],
     "language": "python",
     "metadata": {},
     "outputs": [
      {
       "output_type": "pyout",
       "prompt_number": 14,
       "text": [
        "LogisticRegression(C=0.1, class_weight=None, dual=False, fit_intercept=True,\n",
        "          intercept_scaling=1, penalty='l2', random_state=None, tol=0.0001)"
       ]
      }
     ],
     "prompt_number": 14
    },
    {
     "cell_type": "code",
     "collapsed": false,
     "input": [
      "clf.best_score_"
     ],
     "language": "python",
     "metadata": {},
     "outputs": [
      {
       "output_type": "pyout",
       "prompt_number": 15,
       "text": [
        "0.66459685008753022"
       ]
      }
     ],
     "prompt_number": 15
    },
    {
     "cell_type": "code",
     "collapsed": false,
     "input": [
      "clf.best_params_"
     ],
     "language": "python",
     "metadata": {},
     "outputs": [
      {
       "output_type": "pyout",
       "prompt_number": 16,
       "text": [
        "{'C': 0.1, 'penalty': 'l2'}"
       ]
      }
     ],
     "prompt_number": 16
    }
   ],
   "metadata": {}
  }
 ]
}